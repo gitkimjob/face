{
  "cells": [
    {
      "cell_type": "markdown",
      "metadata": {
        "id": "view-in-github",
        "colab_type": "text"
      },
      "source": [
        "<a href=\"https://colab.research.google.com/github/gitkimjob/faceall/blob/master/face2.5.2.ipynb\" target=\"_parent\"><img src=\"https://colab.research.google.com/assets/colab-badge.svg\" alt=\"Open In Colab\"/></a>"
      ]
    },
    {
      "cell_type": "code",
      "source": [
        "#@title 1.克隆最新源代码\n",
        "!git clone https://github.com/gitkimjob/FaceFusion2.5.git"
      ],
      "metadata": {
        "id": "QduD1j6GC7Ea"
      },
      "execution_count": null,
      "outputs": []
    },
    {
      "cell_type": "code",
      "source": [
        "#@title 2.检查python路径版本\n",
        "!which python\n",
        "!python --version"
      ],
      "metadata": {
        "id": "WGFqe8u6DAtR",
        "outputId": "ce219f6a-ad4c-4a88-a63d-b07c59e64d06",
        "colab": {
          "base_uri": "https://localhost:8080/"
        }
      },
      "execution_count": null,
      "outputs": [
        {
          "output_type": "stream",
          "name": "stdout",
          "text": [
            "/usr/local/bin/python\n",
            "Python 3.12.2\n"
          ]
        }
      ]
    },
    {
      "cell_type": "code",
      "source": [
        "#@title 3.检查是否存在conda以及安装路径\n",
        "!conda --version\n",
        "!which conda"
      ],
      "metadata": {
        "id": "f4lMkwtWDirp",
        "outputId": "5f507aa9-2c42-419d-bce1-063fd5f27b88",
        "colab": {
          "base_uri": "https://localhost:8080/"
        }
      },
      "execution_count": null,
      "outputs": [
        {
          "output_type": "stream",
          "name": "stdout",
          "text": [
            "conda 24.3.0\n",
            "/usr/local/bin/conda\n"
          ]
        }
      ]
    },
    {
      "cell_type": "code",
      "source": [
        "#@title 4.检查python环境变量并初始化清除\n",
        "!echo $PYTHONPATH\n",
        "%env PYTHONPATH="
      ],
      "metadata": {
        "id": "HVklTBNfECtx"
      },
      "execution_count": null,
      "outputs": []
    },
    {
      "cell_type": "code",
      "source": [
        "#@title 5.安装Miniconda3（非常重要）\n",
        "!wget https://repo.anaconda.com/miniconda/Miniconda3-latest-Linux-x86_64.sh\n",
        "!chmod +x Miniconda3-latest-Linux-x86_64.sh\n",
        "!bash ./Miniconda3-latest-Linux-x86_64.sh -b -f -p /usr/local/"
      ],
      "metadata": {
        "id": "SM6mSZNzEXrg"
      },
      "execution_count": null,
      "outputs": []
    },
    {
      "cell_type": "code",
      "source": [
        "#@title 6.检查Miniconda3是否安装成功\n",
        "!conda --version\n",
        "!which conda"
      ],
      "metadata": {
        "id": "_jyN5QVlEs6u"
      },
      "execution_count": null,
      "outputs": []
    },
    {
      "cell_type": "code",
      "source": [
        "#@title 7.添加python版本变量（更换版本就把3.10换成自己要更换的版本）\n",
        "import sys\n",
        "sys.path.append(\"/usr/local/lib/python3.10/site-packages\")"
      ],
      "metadata": {
        "id": "4JyV6O0OFBoG"
      },
      "execution_count": null,
      "outputs": []
    },
    {
      "cell_type": "code",
      "source": [
        "#@title 8.添加conda配置\n",
        "!conda config --add channels bioconda\n",
        "!conda config --add channels conda-forge"
      ],
      "metadata": {
        "id": "WUmBgArzFhSd"
      },
      "execution_count": null,
      "outputs": []
    },
    {
      "cell_type": "code",
      "source": [
        "#@title 9.安装conda依赖包\n",
        "!conda install cudatoolkit=11.8 cudnn=8.9.2.26 conda-forge::gputil=1.4.0"
      ],
      "metadata": {
        "id": "zq410OL-GtFa"
      },
      "execution_count": null,
      "outputs": []
    },
    {
      "cell_type": "code",
      "source": [
        "#@title 10.进入源码目录开始初始化conda和创建conda（python版本号自己记得更改）\n",
        "%%shell\n",
        "eval \"$(conda shell.bash hook)\"\n",
        "cd /content/FaceFusion2.5\n",
        "conda init --all\n",
        "conda create --name face python=3.10"
      ],
      "metadata": {
        "id": "pxWIdKZMF5Ns"
      },
      "execution_count": null,
      "outputs": []
    },
    {
      "cell_type": "code",
      "source": [
        "#@title 11.运行程序\n",
        "%%shell\n",
        "eval \"$(conda shell.bash hook)\"\n",
        "conda activate face\n",
        "cd /content/FaceFusion2.5\n",
        "python run.py"
      ],
      "metadata": {
        "id": "jz60sir_Hjto"
      },
      "execution_count": null,
      "outputs": []
    }
  ],
  "metadata": {
    "accelerator": "GPU",
    "colab": {
      "provenance": [],
      "include_colab_link": true
    },
    "kernelspec": {
      "display_name": "Python 3",
      "name": "python3"
    },
    "language_info": {
      "name": "python"
    }
  },
  "nbformat": 4,
  "nbformat_minor": 0
}